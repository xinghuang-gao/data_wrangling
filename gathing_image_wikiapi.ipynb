{
 "cells": [
  {
   "cell_type": "code",
   "execution_count": 1,
   "metadata": {},
   "outputs": [],
   "source": [
    "import wptools"
   ]
  },
  {
   "cell_type": "code",
   "execution_count": 2,
   "metadata": {},
   "outputs": [
    {
     "name": "stderr",
     "output_type": "stream",
     "text": [
      "en.wikipedia.org (query) E.T._the_Extra-Terrestrial\n",
      "API warning: {'extracts': {'warnings': 'HTML may be malformed and/or unbalanced and may omit inline images. Use at your own risk. Known problems are listed at https://www.mediawiki.org/wiki/Extension:TextExtracts#Caveats.'}}\n",
      "en.wikipedia.org (parse) 73441\n",
      "www.wikidata.org (wikidata) Q11621\n",
      "www.wikidata.org (labels) Q102427|Q499789|Q787127|Q237207|P2508|P...\n",
      "www.wikidata.org (labels) P3593|P3203|P3143|Q1720784|Q45171911|P4...\n",
      "www.wikidata.org (labels) P272|P1970|P5357|Q2143665|Q952914|P3844...\n",
      "www.wikidata.org (labels) Q1368550|P345|P910|Q6860813|Q918617|Q48...\n",
      "en.wikipedia.org (restbase) /page/summary/E.T._the_Extra-Terrestrial\n",
      "en.wikipedia.org (imageinfo) File:E t the extra terrestrial ver3....\n",
      "E.T. the Extra-Terrestrial (en) data\n",
      "{\n",
      "  aliases: <list(2)> E.T., ET\n",
      "  claims: <dict(98)> P1562, P57, P272, P345, P31, P161, P373, P480...\n",
      "  description: <str(63)> 1982 American science fiction film direct...\n",
      "  exhtml: <str(570)> <p><i><b>E.T. the Extra-Terrestrial</b></i> i...\n",
      "  exrest: <str(549)> E.T. the Extra-Terrestrial is a 1982 American...\n",
      "  extext: <str(1736)> _**E.T. the Extra-Terrestrial**_ is a 1982 A...\n",
      "  extract: <str(1845)> <p class=\"mw-empty-elt\"></p><p><i><b>E.T. t...\n",
      "  image: <list(4)> {'kind': 'parse-image', 'file': 'File:E t the e...\n",
      "  infobox: <dict(18)> name, image, caption, director, producers, w...\n",
      "  iwlinks: <list(6)> https://commons.wikimedia.org/wiki/Category:E...\n",
      "  label: E.T. the Extra-Terrestrial\n",
      "  labels: <dict(180)> Q102427, Q499789, Q787127, Q237207, P2508, P...\n",
      "  length: 81,406\n",
      "  links: <list(474)> 12 Monkeys, 12 Years a Slave (film), 1941 (fi...\n",
      "  modified: <dict(2)> page, wikidata\n",
      "  pageid: 73441\n",
      "  parsetree: <str(101474)> <root><template><title>Redirect</title>...\n",
      "  random: Elsie Louise Shaw\n",
      "  redirects: <list(38)> {'pageid': 177061, 'ns': 0, 'title': 'E.T....\n",
      "  requests: <list(9)> query, parse, wikidata, labels, labels, labe...\n",
      "  title: E.T._the_Extra-Terrestrial\n",
      "  url: https://en.wikipedia.org/wiki/E.T._the_Extra-Terrestrial\n",
      "  url_raw: <str(67)> https://en.wikipedia.org/wiki/E.T._the_Extra-...\n",
      "  watchers: 305\n",
      "  what: film\n",
      "  wikibase: Q11621\n",
      "  wikidata: <dict(98)> AllMovie movie ID (P1562), director (P57), ...\n",
      "  wikidata_url: https://www.wikidata.org/wiki/Q11621\n",
      "  wikitext: <str(81104)> {{Redirect|E.T.|other uses|ET (disambigua...\n",
      "}\n"
     ]
    }
   ],
   "source": [
    "page = wptools.page('E.T._the_Extra-Terrestrial').get()"
   ]
  },
  {
   "cell_type": "markdown",
   "metadata": {},
   "source": [
    "## Quiz 1\n",
    "Access the first image in the images attribute, which is a JSON array."
   ]
  },
  {
   "cell_type": "code",
   "execution_count": 8,
   "metadata": {},
   "outputs": [
    {
     "data": {
      "text/plain": [
       "{'kind': 'parse-image',\n",
       " 'file': 'File:E t the extra terrestrial ver3.jpg',\n",
       " 'orig': 'E t the extra terrestrial ver3.jpg',\n",
       " 'timestamp': '2016-06-04T10:30:46Z',\n",
       " 'size': 83073,\n",
       " 'width': 253,\n",
       " 'height': 394,\n",
       " 'url': 'https://upload.wikimedia.org/wikipedia/en/6/66/E_t_the_extra_terrestrial_ver3.jpg',\n",
       " 'descriptionurl': 'https://en.wikipedia.org/wiki/File:E_t_the_extra_terrestrial_ver3.jpg',\n",
       " 'descriptionshorturl': 'https://en.wikipedia.org/w/index.php?curid=7419503',\n",
       " 'title': 'File:E t the extra terrestrial ver3.jpg'}"
      ]
     },
     "execution_count": 8,
     "metadata": {},
     "output_type": "execute_result"
    }
   ],
   "source": [
    "page.data['image'][0]"
   ]
  },
  {
   "cell_type": "markdown",
   "metadata": {},
   "source": [
    "## Quiz 2\n",
    "Access the director key of the infobox attribute, which is a JSON object."
   ]
  },
  {
   "cell_type": "code",
   "execution_count": 9,
   "metadata": {},
   "outputs": [
    {
     "data": {
      "text/plain": [
       "{'name': 'E.T. the Extra-Terrestrial',\n",
       " 'image': 'E t the extra terrestrial ver3.jpg',\n",
       " 'caption': 'Theatrical release poster by [[John Alvin]]<ext><name>ref</name><attr> name=lat</attr><inner>{{Cite news|first=Jocelyn|last=Stewart|title=Artist created many famous film posters|url=http://articles.latimes.com/2008/feb/10/local/me-alvin10|work=[[Los Angeles Times]]|date=February 10, 2008|accessdate=April 17, 2010|url-status=live|archiveurl=https://web.archive.org/web/20130611205017/http://articles.latimes.com/2008/feb/10/local/me-alvin10|archivedate=June 11, 2013|df=mdy-all}}</inner><close>&lt;/ref&gt;</close></ext>',\n",
       " 'director': '[[Steven Spielberg]]',\n",
       " 'producers': '{{unbulleted list|[[Kathleen Kennedy (producer)|Kathleen Kennedy]]|Steven Spielberg}}',\n",
       " 'writer': '[[Melissa Mathison]]',\n",
       " 'starring': '{{Plainlist|\\n* [[Dee Wallace]]\\n* [[Peter Coyote]]\\n* [[Henry Thomas]]}}',\n",
       " 'music': '[[John Williams]]',\n",
       " 'cinematography': '[[Allen Daviau]]',\n",
       " 'editing': '[[Carol Littleton]]',\n",
       " 'studio': '[[Universal Pictures]]<br>[[Amblin Entertainment]]',\n",
       " 'distributor': 'Universal Pictures',\n",
       " 'released': '{{Film date|1982|05|26|[[1982 Cannes Film Festival|Cannes]]|1982|06|11|United States}}',\n",
       " 'runtime': \"114 minutes<comment>&lt;!--Theatrical runtime: 114:21--&gt;</comment><ext><name>ref</name><attr/><inner>{{cite web | url=http://www.bbfc.co.uk/releases/et-extra-terrestrial-9 | title=''E.T. the Extra Terrestrial'' (U) | publisher=[[British Board of Film Classification]] | date=July 30, 1982 | accessdate=September 16, 2016 | url-status=live | archiveurl=https://web.archive.org/web/20170111051353/http://www.bbfc.co.uk/releases/et-extra-terrestrial-9 | archivedate=January 11, 2017 | df=mdy-all }}</inner><close>&lt;/ref&gt;</close></ext>\",\n",
       " 'country': 'United States',\n",
       " 'language': 'English',\n",
       " 'budget': '$10.5 million<ext><name>ref</name><attr> name=BOM</attr></ext>',\n",
       " 'gross': '$792.9 million<ext><name>ref</name><attr> name=BOM</attr><inner>{{cite web |url=http://www.boxofficemojo.com/movies/?id=et.htm |title=E.T.: The Extra-Terrestrial |website=[[Box Office Mojo]] |accessdate=February 5, 2009 |url-status=live |archiveurl=https://web.archive.org/web/20140124085025/http://boxofficemojo.com/movies/?id=et.htm |archivedate=January 24, 2014 |df=mdy-all }}</inner><close>&lt;/ref&gt;</close></ext>'}"
      ]
     },
     "execution_count": 9,
     "metadata": {},
     "output_type": "execute_result"
    }
   ],
   "source": [
    "page.data['infobox']"
   ]
  }
 ],
 "metadata": {
  "kernelspec": {
   "display_name": "Python 3",
   "language": "python",
   "name": "python3"
  },
  "language_info": {
   "codemirror_mode": {
    "name": "ipython",
    "version": 3
   },
   "file_extension": ".py",
   "mimetype": "text/x-python",
   "name": "python",
   "nbconvert_exporter": "python",
   "pygments_lexer": "ipython3",
   "version": "3.6.3"
  }
 },
 "nbformat": 4,
 "nbformat_minor": 2
}
